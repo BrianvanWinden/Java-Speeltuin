{
 "cells": [
  {
   "cell_type": "code",
   "execution_count": 7,
   "metadata": {},
   "outputs": [],
   "source": [
    "import dash \n",
    "from dash import dcc, html\n",
    "from dash.dependencies import Input, Output\n",
    "import plotly \n",
    "import requests\n",
    "import polars as pl\n",
    "import pandas as pd \n",
    "\n"
   ]
  },
  {
   "cell_type": "code",
   "execution_count": 9,
   "metadata": {},
   "outputs": [
    {
     "ename": "TypeError",
     "evalue": "Object does not have a .read() method.",
     "output_type": "error",
     "traceback": [
      "\u001b[0;31m---------------------------------------------------------------------------\u001b[0m",
      "\u001b[0;31mTypeError\u001b[0m                                 Traceback (most recent call last)",
      "Cell \u001b[0;32mIn[9], line 14\u001b[0m\n\u001b[1;32m     10\u001b[0m     df \u001b[39m=\u001b[39m polars\u001b[39m.\u001b[39mread_json(json)\n\u001b[1;32m     11\u001b[0m     \u001b[39mreturn\u001b[39;00m df\u001b[39m#, df2\\\u001b[39;00m\n\u001b[0;32m---> 14\u001b[0m data \u001b[39m=\u001b[39m update_data()\n\u001b[1;32m     15\u001b[0m \u001b[39mprint\u001b[39m(data)\n\u001b[1;32m     16\u001b[0m \u001b[39m# print(data2)\u001b[39;00m\n",
      "Cell \u001b[0;32mIn[9], line 10\u001b[0m, in \u001b[0;36mupdate_data\u001b[0;34m()\u001b[0m\n\u001b[1;32m      8\u001b[0m json \u001b[39m=\u001b[39m weather_request\u001b[39m.\u001b[39mjson()\n\u001b[1;32m      9\u001b[0m \u001b[39m# df = pd.DataFrame(json)\u001b[39;00m\n\u001b[0;32m---> 10\u001b[0m df \u001b[39m=\u001b[39m polars\u001b[39m.\u001b[39;49mread_json(json)\n\u001b[1;32m     11\u001b[0m \u001b[39mreturn\u001b[39;00m df\n",
      "File \u001b[0;32m~/miniconda3/envs/praxasense/lib/python3.9/site-packages/polars/io.py:1022\u001b[0m, in \u001b[0;36mread_json\u001b[0;34m(file)\u001b[0m\n\u001b[1;32m   1008\u001b[0m \u001b[39mdef\u001b[39;00m \u001b[39mread_json\u001b[39m(file: \u001b[39mstr\u001b[39m \u001b[39m|\u001b[39m Path \u001b[39m|\u001b[39m IOBase) \u001b[39m-\u001b[39m\u001b[39m>\u001b[39m DataFrame:\n\u001b[1;32m   1009\u001b[0m \u001b[39m    \u001b[39m\u001b[39m\"\"\"\u001b[39;00m\n\u001b[1;32m   1010\u001b[0m \u001b[39m    Read into a DataFrame from a JSON file.\u001b[39;00m\n\u001b[1;32m   1011\u001b[0m \n\u001b[0;32m   (...)\u001b[0m\n\u001b[1;32m   1020\u001b[0m \n\u001b[1;32m   1021\u001b[0m \u001b[39m    \"\"\"\u001b[39;00m\n\u001b[0;32m-> 1022\u001b[0m     \u001b[39mreturn\u001b[39;00m DataFrame\u001b[39m.\u001b[39;49m_read_json(file)\n",
      "File \u001b[0;32m~/miniconda3/envs/praxasense/lib/python3.9/site-packages/polars/internals/dataframe/frame.py:984\u001b[0m, in \u001b[0;36mDataFrame._read_json\u001b[0;34m(cls, file)\u001b[0m\n\u001b[1;32m    981\u001b[0m     file \u001b[39m=\u001b[39m normalise_filepath(file)\n\u001b[1;32m    983\u001b[0m \u001b[39mself\u001b[39m \u001b[39m=\u001b[39m \u001b[39mcls\u001b[39m\u001b[39m.\u001b[39m\u001b[39m__new__\u001b[39m(\u001b[39mcls\u001b[39m)\n\u001b[0;32m--> 984\u001b[0m \u001b[39mself\u001b[39m\u001b[39m.\u001b[39m_df \u001b[39m=\u001b[39m PyDataFrame\u001b[39m.\u001b[39;49mread_json(file, \u001b[39mFalse\u001b[39;49;00m)\n\u001b[1;32m    985\u001b[0m \u001b[39mreturn\u001b[39;00m \u001b[39mself\u001b[39m\n",
      "\u001b[0;31mTypeError\u001b[0m: Object does not have a .read() method."
     ]
    }
   ],
   "source": [
    "app = dash.Dash(__name__)\n",
    "\n",
    "cats = ['temperature', 'relative_humidity']\n",
    "\n",
    "\n",
    "def update_data ():\n",
    "    weather_request = requests.get('https://api.open-meteo.com/v1/forecast?latitude=52.01&longitude=4.36&hourly=temperature_2m,relativehumidity_2m')\n",
    "    json = weather_request.json()\n",
    "    # df = pd.DataFrame(json)\n",
    "    df = polars.read_json(json)\n",
    "    return df#, df2\\\n",
    "\n",
    "\n"
   ]
  },
  {
   "cell_type": "code",
   "execution_count": 12,
   "metadata": {},
   "outputs": [
    {
     "ename": "ShapeError",
     "evalue": "Could not create a new DataFrame from Series. The Series have different lengths: found length 3 for Series named \"latitude\" and length 1 for Series named \"hourly_units\".",
     "output_type": "error",
     "traceback": [
      "\u001b[0;31m---------------------------------------------------------------------------\u001b[0m",
      "\u001b[0;31mShapeError\u001b[0m                                Traceback (most recent call last)",
      "Cell \u001b[0;32mIn[12], line 4\u001b[0m\n\u001b[1;32m      2\u001b[0m json \u001b[39m=\u001b[39m weather_request\u001b[39m.\u001b[39mjson()\n\u001b[1;32m      3\u001b[0m \u001b[39m# df = pd.DataFrame(json)\u001b[39;00m\n\u001b[0;32m----> 4\u001b[0m df \u001b[39m=\u001b[39m pl\u001b[39m.\u001b[39;49mfrom_dict(json)\n",
      "File \u001b[0;32m~/miniconda3/envs/praxasense/lib/python3.9/site-packages/polars/utils.py:433\u001b[0m, in \u001b[0;36mdeprecated_alias.<locals>.deco.<locals>.wrapper\u001b[0;34m(*args, **kwargs)\u001b[0m\n\u001b[1;32m    430\u001b[0m \u001b[39m@functools\u001b[39m\u001b[39m.\u001b[39mwraps(function)\n\u001b[1;32m    431\u001b[0m \u001b[39mdef\u001b[39;00m \u001b[39mwrapper\u001b[39m(\u001b[39m*\u001b[39margs: P\u001b[39m.\u001b[39margs, \u001b[39m*\u001b[39m\u001b[39m*\u001b[39mkwargs: P\u001b[39m.\u001b[39mkwargs) \u001b[39m-\u001b[39m\u001b[39m>\u001b[39m T:\n\u001b[1;32m    432\u001b[0m     _rename_kwargs(function\u001b[39m.\u001b[39m\u001b[39m__name__\u001b[39m, kwargs, aliases)\n\u001b[0;32m--> 433\u001b[0m     \u001b[39mreturn\u001b[39;00m function(\u001b[39m*\u001b[39;49margs, \u001b[39m*\u001b[39;49m\u001b[39m*\u001b[39;49mkwargs)\n",
      "File \u001b[0;32m~/miniconda3/envs/praxasense/lib/python3.9/site-packages/polars/convert.py:68\u001b[0m, in \u001b[0;36mfrom_dict\u001b[0;34m(data, schema, schema_overrides)\u001b[0m\n\u001b[1;32m     18\u001b[0m \u001b[39m@deprecated_alias\u001b[39m(columns\u001b[39m=\u001b[39m\u001b[39m\"\u001b[39m\u001b[39mschema\u001b[39m\u001b[39m\"\u001b[39m)\n\u001b[1;32m     19\u001b[0m \u001b[39mdef\u001b[39;00m \u001b[39mfrom_dict\u001b[39m(\n\u001b[1;32m     20\u001b[0m     data: Mapping[\u001b[39mstr\u001b[39m, Sequence[\u001b[39mobject\u001b[39m] \u001b[39m|\u001b[39m Mapping[\u001b[39mstr\u001b[39m, Sequence[\u001b[39mobject\u001b[39m]] \u001b[39m|\u001b[39m Series],\n\u001b[0;32m   (...)\u001b[0m\n\u001b[1;32m     23\u001b[0m     schema_overrides: SchemaDict \u001b[39m|\u001b[39m \u001b[39mNone\u001b[39;00m \u001b[39m=\u001b[39m \u001b[39mNone\u001b[39;00m,\n\u001b[1;32m     24\u001b[0m ) \u001b[39m-\u001b[39m\u001b[39m>\u001b[39m DataFrame:\n\u001b[1;32m     25\u001b[0m \u001b[39m    \u001b[39m\u001b[39m\"\"\"\u001b[39;00m\n\u001b[1;32m     26\u001b[0m \u001b[39m    Construct a DataFrame from a dictionary of sequences.\u001b[39;00m\n\u001b[1;32m     27\u001b[0m \n\u001b[0;32m   (...)\u001b[0m\n\u001b[1;32m     66\u001b[0m \n\u001b[1;32m     67\u001b[0m \u001b[39m    \"\"\"\u001b[39;00m\n\u001b[0;32m---> 68\u001b[0m     \u001b[39mreturn\u001b[39;00m DataFrame\u001b[39m.\u001b[39;49m_from_dict(\n\u001b[1;32m     69\u001b[0m         data\u001b[39m=\u001b[39;49mdata, schema\u001b[39m=\u001b[39;49mschema, schema_overrides\u001b[39m=\u001b[39;49mschema_overrides\n\u001b[1;32m     70\u001b[0m     )\n",
      "File \u001b[0;32m~/miniconda3/envs/praxasense/lib/python3.9/site-packages/polars/internals/dataframe/frame.py:449\u001b[0m, in \u001b[0;36mDataFrame._from_dict\u001b[0;34m(cls, data, schema, schema_overrides)\u001b[0m\n\u001b[1;32m    412\u001b[0m \u001b[39m@classmethod\u001b[39m\n\u001b[1;32m    413\u001b[0m \u001b[39mdef\u001b[39;00m \u001b[39m_from_dict\u001b[39m(\n\u001b[1;32m    414\u001b[0m     \u001b[39mcls\u001b[39m,\n\u001b[0;32m   (...)\u001b[0m\n\u001b[1;32m    419\u001b[0m     schema_overrides: SchemaDict \u001b[39m|\u001b[39m \u001b[39mNone\u001b[39;00m \u001b[39m=\u001b[39m \u001b[39mNone\u001b[39;00m,\n\u001b[1;32m    420\u001b[0m ) \u001b[39m-\u001b[39m\u001b[39m>\u001b[39m Self:\n\u001b[1;32m    421\u001b[0m \u001b[39m    \u001b[39m\u001b[39m\"\"\"\u001b[39;00m\n\u001b[1;32m    422\u001b[0m \u001b[39m    Construct a DataFrame from a dictionary of sequences.\u001b[39;00m\n\u001b[1;32m    423\u001b[0m \n\u001b[0;32m   (...)\u001b[0m\n\u001b[1;32m    446\u001b[0m \n\u001b[1;32m    447\u001b[0m \u001b[39m    \"\"\"\u001b[39;00m\n\u001b[1;32m    448\u001b[0m     \u001b[39mreturn\u001b[39;00m \u001b[39mcls\u001b[39m\u001b[39m.\u001b[39m_from_pydf(\n\u001b[0;32m--> 449\u001b[0m         dict_to_pydf(data, schema\u001b[39m=\u001b[39;49mschema, schema_overrides\u001b[39m=\u001b[39;49mschema_overrides)\n\u001b[1;32m    450\u001b[0m     )\n",
      "File \u001b[0;32m~/miniconda3/envs/praxasense/lib/python3.9/site-packages/polars/internals/construction.py:745\u001b[0m, in \u001b[0;36mdict_to_pydf\u001b[0;34m(data, schema, schema_overrides, nan_to_null)\u001b[0m\n\u001b[1;32m    737\u001b[0m     data_series \u001b[39m=\u001b[39m [\n\u001b[1;32m    738\u001b[0m         s\u001b[39m.\u001b[39m_s\n\u001b[1;32m    739\u001b[0m         \u001b[39mfor\u001b[39;00m s \u001b[39min\u001b[39;00m _expand_dict_scalars(\n\u001b[1;32m    740\u001b[0m             data, schema_overrides, nan_to_null\u001b[39m=\u001b[39mnan_to_null\n\u001b[1;32m    741\u001b[0m         )\u001b[39m.\u001b[39mvalues()\n\u001b[1;32m    742\u001b[0m     ]\n\u001b[1;32m    744\u001b[0m data_series \u001b[39m=\u001b[39m _handle_columns_arg(data_series, columns\u001b[39m=\u001b[39mcolumn_names, from_dict\u001b[39m=\u001b[39m\u001b[39mTrue\u001b[39;00m)\n\u001b[0;32m--> 745\u001b[0m \u001b[39mreturn\u001b[39;00m PyDataFrame(data_series)\n",
      "\u001b[0;31mShapeError\u001b[0m: Could not create a new DataFrame from Series. The Series have different lengths: found length 3 for Series named \"latitude\" and length 1 for Series named \"hourly_units\"."
     ]
    }
   ],
   "source": [
    "weather_request = requests.get('https://api.open-meteo.com/v1/forecast?latitude=52.01&longitude=4.36&hourly=temperature_2m,relativehumidity_2m')\n",
    "json = weather_request.json()\n",
    "# df = pd.DataFrame(json)\n",
    "df = pl.from_dict(json)"
   ]
  }
 ],
 "metadata": {
  "kernelspec": {
   "display_name": "praxasense",
   "language": "python",
   "name": "python3"
  },
  "language_info": {
   "codemirror_mode": {
    "name": "ipython",
    "version": 3
   },
   "file_extension": ".py",
   "mimetype": "text/x-python",
   "name": "python",
   "nbconvert_exporter": "python",
   "pygments_lexer": "ipython3",
   "version": "3.9.16"
  },
  "orig_nbformat": 4,
  "vscode": {
   "interpreter": {
    "hash": "a5771686a6427bd28de945da9b7999532bb5f8661614dd892c9b4d71e954f2c2"
   }
  }
 },
 "nbformat": 4,
 "nbformat_minor": 2
}
